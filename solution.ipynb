{
  "nbformat": 4,
  "nbformat_minor": 0,
  "metadata": {
    "colab": {
      "provenance": []
    },
    "kernelspec": {
      "name": "python3",
      "display_name": "Python 3"
    },
    "language_info": {
      "name": "python"
    },
    "accelerator": "GPU",
    "gpuClass": "standard",
    "widgets": {
      "application/vnd.jupyter.widget-state+json": {
        "482af209288c40f992d16e61f7f53c67": {
          "model_module": "@jupyter-widgets/controls",
          "model_name": "HBoxModel",
          "model_module_version": "1.5.0",
          "state": {
            "_dom_classes": [],
            "_model_module": "@jupyter-widgets/controls",
            "_model_module_version": "1.5.0",
            "_model_name": "HBoxModel",
            "_view_count": null,
            "_view_module": "@jupyter-widgets/controls",
            "_view_module_version": "1.5.0",
            "_view_name": "HBoxView",
            "box_style": "",
            "children": [
              "IPY_MODEL_8487dcd19ba1472d8c3ba629ca2d30a0",
              "IPY_MODEL_623f263e1e8a4b6082416c758e6c0cad",
              "IPY_MODEL_026800a895c246a3bea7359c1391998c"
            ],
            "layout": "IPY_MODEL_dae9423ac3d84730925c5f7982ee0939"
          }
        },
        "8487dcd19ba1472d8c3ba629ca2d30a0": {
          "model_module": "@jupyter-widgets/controls",
          "model_name": "HTMLModel",
          "model_module_version": "1.5.0",
          "state": {
            "_dom_classes": [],
            "_model_module": "@jupyter-widgets/controls",
            "_model_module_version": "1.5.0",
            "_model_name": "HTMLModel",
            "_view_count": null,
            "_view_module": "@jupyter-widgets/controls",
            "_view_module_version": "1.5.0",
            "_view_name": "HTMLView",
            "description": "",
            "description_tooltip": null,
            "layout": "IPY_MODEL_d8bbc6f0e07544fa89b571326df866c1",
            "placeholder": "​",
            "style": "IPY_MODEL_411e421635164b33b299be6ccda10da4",
            "value": "Downloading: 100%"
          }
        },
        "623f263e1e8a4b6082416c758e6c0cad": {
          "model_module": "@jupyter-widgets/controls",
          "model_name": "FloatProgressModel",
          "model_module_version": "1.5.0",
          "state": {
            "_dom_classes": [],
            "_model_module": "@jupyter-widgets/controls",
            "_model_module_version": "1.5.0",
            "_model_name": "FloatProgressModel",
            "_view_count": null,
            "_view_module": "@jupyter-widgets/controls",
            "_view_module_version": "1.5.0",
            "_view_name": "ProgressView",
            "bar_style": "success",
            "description": "",
            "description_tooltip": null,
            "layout": "IPY_MODEL_9e97cb5b5c6d4de994ac319e6fd24556",
            "max": 641,
            "min": 0,
            "orientation": "horizontal",
            "style": "IPY_MODEL_862cf2265a5e4be4944778be49e2d453",
            "value": 641
          }
        },
        "026800a895c246a3bea7359c1391998c": {
          "model_module": "@jupyter-widgets/controls",
          "model_name": "HTMLModel",
          "model_module_version": "1.5.0",
          "state": {
            "_dom_classes": [],
            "_model_module": "@jupyter-widgets/controls",
            "_model_module_version": "1.5.0",
            "_model_name": "HTMLModel",
            "_view_count": null,
            "_view_module": "@jupyter-widgets/controls",
            "_view_module_version": "1.5.0",
            "_view_name": "HTMLView",
            "description": "",
            "description_tooltip": null,
            "layout": "IPY_MODEL_5d127a8df30e484cb08f38768b6af439",
            "placeholder": "​",
            "style": "IPY_MODEL_d6b333257be7496d9e5b29907eb7cfaa",
            "value": " 641/641 [00:00&lt;00:00, 18.5kB/s]"
          }
        },
        "dae9423ac3d84730925c5f7982ee0939": {
          "model_module": "@jupyter-widgets/base",
          "model_name": "LayoutModel",
          "model_module_version": "1.2.0",
          "state": {
            "_model_module": "@jupyter-widgets/base",
            "_model_module_version": "1.2.0",
            "_model_name": "LayoutModel",
            "_view_count": null,
            "_view_module": "@jupyter-widgets/base",
            "_view_module_version": "1.2.0",
            "_view_name": "LayoutView",
            "align_content": null,
            "align_items": null,
            "align_self": null,
            "border": null,
            "bottom": null,
            "display": null,
            "flex": null,
            "flex_flow": null,
            "grid_area": null,
            "grid_auto_columns": null,
            "grid_auto_flow": null,
            "grid_auto_rows": null,
            "grid_column": null,
            "grid_gap": null,
            "grid_row": null,
            "grid_template_areas": null,
            "grid_template_columns": null,
            "grid_template_rows": null,
            "height": null,
            "justify_content": null,
            "justify_items": null,
            "left": null,
            "margin": null,
            "max_height": null,
            "max_width": null,
            "min_height": null,
            "min_width": null,
            "object_fit": null,
            "object_position": null,
            "order": null,
            "overflow": null,
            "overflow_x": null,
            "overflow_y": null,
            "padding": null,
            "right": null,
            "top": null,
            "visibility": null,
            "width": null
          }
        },
        "d8bbc6f0e07544fa89b571326df866c1": {
          "model_module": "@jupyter-widgets/base",
          "model_name": "LayoutModel",
          "model_module_version": "1.2.0",
          "state": {
            "_model_module": "@jupyter-widgets/base",
            "_model_module_version": "1.2.0",
            "_model_name": "LayoutModel",
            "_view_count": null,
            "_view_module": "@jupyter-widgets/base",
            "_view_module_version": "1.2.0",
            "_view_name": "LayoutView",
            "align_content": null,
            "align_items": null,
            "align_self": null,
            "border": null,
            "bottom": null,
            "display": null,
            "flex": null,
            "flex_flow": null,
            "grid_area": null,
            "grid_auto_columns": null,
            "grid_auto_flow": null,
            "grid_auto_rows": null,
            "grid_column": null,
            "grid_gap": null,
            "grid_row": null,
            "grid_template_areas": null,
            "grid_template_columns": null,
            "grid_template_rows": null,
            "height": null,
            "justify_content": null,
            "justify_items": null,
            "left": null,
            "margin": null,
            "max_height": null,
            "max_width": null,
            "min_height": null,
            "min_width": null,
            "object_fit": null,
            "object_position": null,
            "order": null,
            "overflow": null,
            "overflow_x": null,
            "overflow_y": null,
            "padding": null,
            "right": null,
            "top": null,
            "visibility": null,
            "width": null
          }
        },
        "411e421635164b33b299be6ccda10da4": {
          "model_module": "@jupyter-widgets/controls",
          "model_name": "DescriptionStyleModel",
          "model_module_version": "1.5.0",
          "state": {
            "_model_module": "@jupyter-widgets/controls",
            "_model_module_version": "1.5.0",
            "_model_name": "DescriptionStyleModel",
            "_view_count": null,
            "_view_module": "@jupyter-widgets/base",
            "_view_module_version": "1.2.0",
            "_view_name": "StyleView",
            "description_width": ""
          }
        },
        "9e97cb5b5c6d4de994ac319e6fd24556": {
          "model_module": "@jupyter-widgets/base",
          "model_name": "LayoutModel",
          "model_module_version": "1.2.0",
          "state": {
            "_model_module": "@jupyter-widgets/base",
            "_model_module_version": "1.2.0",
            "_model_name": "LayoutModel",
            "_view_count": null,
            "_view_module": "@jupyter-widgets/base",
            "_view_module_version": "1.2.0",
            "_view_name": "LayoutView",
            "align_content": null,
            "align_items": null,
            "align_self": null,
            "border": null,
            "bottom": null,
            "display": null,
            "flex": null,
            "flex_flow": null,
            "grid_area": null,
            "grid_auto_columns": null,
            "grid_auto_flow": null,
            "grid_auto_rows": null,
            "grid_column": null,
            "grid_gap": null,
            "grid_row": null,
            "grid_template_areas": null,
            "grid_template_columns": null,
            "grid_template_rows": null,
            "height": null,
            "justify_content": null,
            "justify_items": null,
            "left": null,
            "margin": null,
            "max_height": null,
            "max_width": null,
            "min_height": null,
            "min_width": null,
            "object_fit": null,
            "object_position": null,
            "order": null,
            "overflow": null,
            "overflow_x": null,
            "overflow_y": null,
            "padding": null,
            "right": null,
            "top": null,
            "visibility": null,
            "width": null
          }
        },
        "862cf2265a5e4be4944778be49e2d453": {
          "model_module": "@jupyter-widgets/controls",
          "model_name": "ProgressStyleModel",
          "model_module_version": "1.5.0",
          "state": {
            "_model_module": "@jupyter-widgets/controls",
            "_model_module_version": "1.5.0",
            "_model_name": "ProgressStyleModel",
            "_view_count": null,
            "_view_module": "@jupyter-widgets/base",
            "_view_module_version": "1.2.0",
            "_view_name": "StyleView",
            "bar_color": null,
            "description_width": ""
          }
        },
        "5d127a8df30e484cb08f38768b6af439": {
          "model_module": "@jupyter-widgets/base",
          "model_name": "LayoutModel",
          "model_module_version": "1.2.0",
          "state": {
            "_model_module": "@jupyter-widgets/base",
            "_model_module_version": "1.2.0",
            "_model_name": "LayoutModel",
            "_view_count": null,
            "_view_module": "@jupyter-widgets/base",
            "_view_module_version": "1.2.0",
            "_view_name": "LayoutView",
            "align_content": null,
            "align_items": null,
            "align_self": null,
            "border": null,
            "bottom": null,
            "display": null,
            "flex": null,
            "flex_flow": null,
            "grid_area": null,
            "grid_auto_columns": null,
            "grid_auto_flow": null,
            "grid_auto_rows": null,
            "grid_column": null,
            "grid_gap": null,
            "grid_row": null,
            "grid_template_areas": null,
            "grid_template_columns": null,
            "grid_template_rows": null,
            "height": null,
            "justify_content": null,
            "justify_items": null,
            "left": null,
            "margin": null,
            "max_height": null,
            "max_width": null,
            "min_height": null,
            "min_width": null,
            "object_fit": null,
            "object_position": null,
            "order": null,
            "overflow": null,
            "overflow_x": null,
            "overflow_y": null,
            "padding": null,
            "right": null,
            "top": null,
            "visibility": null,
            "width": null
          }
        },
        "d6b333257be7496d9e5b29907eb7cfaa": {
          "model_module": "@jupyter-widgets/controls",
          "model_name": "DescriptionStyleModel",
          "model_module_version": "1.5.0",
          "state": {
            "_model_module": "@jupyter-widgets/controls",
            "_model_module_version": "1.5.0",
            "_model_name": "DescriptionStyleModel",
            "_view_count": null,
            "_view_module": "@jupyter-widgets/base",
            "_view_module_version": "1.2.0",
            "_view_name": "StyleView",
            "description_width": ""
          }
        },
        "1bbc1b4576224b17825419f4a41935cf": {
          "model_module": "@jupyter-widgets/controls",
          "model_name": "HBoxModel",
          "model_module_version": "1.5.0",
          "state": {
            "_dom_classes": [],
            "_model_module": "@jupyter-widgets/controls",
            "_model_module_version": "1.5.0",
            "_model_name": "HBoxModel",
            "_view_count": null,
            "_view_module": "@jupyter-widgets/controls",
            "_view_module_version": "1.5.0",
            "_view_name": "HBoxView",
            "box_style": "",
            "children": [
              "IPY_MODEL_5a37ecad0c5142b2a50395c4cc486520",
              "IPY_MODEL_5818a4aabb9b49bbbb84c6a8b9ca07ce",
              "IPY_MODEL_1b705f19d86249af8799c9b13ebdcc89"
            ],
            "layout": "IPY_MODEL_72f36562d68449b2b8cdc916f1016c16"
          }
        },
        "5a37ecad0c5142b2a50395c4cc486520": {
          "model_module": "@jupyter-widgets/controls",
          "model_name": "HTMLModel",
          "model_module_version": "1.5.0",
          "state": {
            "_dom_classes": [],
            "_model_module": "@jupyter-widgets/controls",
            "_model_module_version": "1.5.0",
            "_model_name": "HTMLModel",
            "_view_count": null,
            "_view_module": "@jupyter-widgets/controls",
            "_view_module_version": "1.5.0",
            "_view_name": "HTMLView",
            "description": "",
            "description_tooltip": null,
            "layout": "IPY_MODEL_a195f52997f7436abcb752967240a214",
            "placeholder": "​",
            "style": "IPY_MODEL_210b7b5073114bda96147e4738c03e7f",
            "value": "Downloading: 100%"
          }
        },
        "5818a4aabb9b49bbbb84c6a8b9ca07ce": {
          "model_module": "@jupyter-widgets/controls",
          "model_name": "FloatProgressModel",
          "model_module_version": "1.5.0",
          "state": {
            "_dom_classes": [],
            "_model_module": "@jupyter-widgets/controls",
            "_model_module_version": "1.5.0",
            "_model_name": "FloatProgressModel",
            "_view_count": null,
            "_view_module": "@jupyter-widgets/controls",
            "_view_module_version": "1.5.0",
            "_view_name": "ProgressView",
            "bar_style": "success",
            "description": "",
            "description_tooltip": null,
            "layout": "IPY_MODEL_8b35677bef834eae920bcde41246a61f",
            "max": 7193348019,
            "min": 0,
            "orientation": "horizontal",
            "style": "IPY_MODEL_b5612e7c11ba4334936b8cdb9c2ed89d",
            "value": 7193348019
          }
        },
        "1b705f19d86249af8799c9b13ebdcc89": {
          "model_module": "@jupyter-widgets/controls",
          "model_name": "HTMLModel",
          "model_module_version": "1.5.0",
          "state": {
            "_dom_classes": [],
            "_model_module": "@jupyter-widgets/controls",
            "_model_module_version": "1.5.0",
            "_model_name": "HTMLModel",
            "_view_count": null,
            "_view_module": "@jupyter-widgets/controls",
            "_view_module_version": "1.5.0",
            "_view_name": "HTMLView",
            "description": "",
            "description_tooltip": null,
            "layout": "IPY_MODEL_c61d78c59c0d4f67af2a584550f9554b",
            "placeholder": "​",
            "style": "IPY_MODEL_e67d314cf42d4e71a3db72b974497eb7",
            "value": " 7.19G/7.19G [02:23&lt;00:00, 61.1MB/s]"
          }
        },
        "72f36562d68449b2b8cdc916f1016c16": {
          "model_module": "@jupyter-widgets/base",
          "model_name": "LayoutModel",
          "model_module_version": "1.2.0",
          "state": {
            "_model_module": "@jupyter-widgets/base",
            "_model_module_version": "1.2.0",
            "_model_name": "LayoutModel",
            "_view_count": null,
            "_view_module": "@jupyter-widgets/base",
            "_view_module_version": "1.2.0",
            "_view_name": "LayoutView",
            "align_content": null,
            "align_items": null,
            "align_self": null,
            "border": null,
            "bottom": null,
            "display": null,
            "flex": null,
            "flex_flow": null,
            "grid_area": null,
            "grid_auto_columns": null,
            "grid_auto_flow": null,
            "grid_auto_rows": null,
            "grid_column": null,
            "grid_gap": null,
            "grid_row": null,
            "grid_template_areas": null,
            "grid_template_columns": null,
            "grid_template_rows": null,
            "height": null,
            "justify_content": null,
            "justify_items": null,
            "left": null,
            "margin": null,
            "max_height": null,
            "max_width": null,
            "min_height": null,
            "min_width": null,
            "object_fit": null,
            "object_position": null,
            "order": null,
            "overflow": null,
            "overflow_x": null,
            "overflow_y": null,
            "padding": null,
            "right": null,
            "top": null,
            "visibility": null,
            "width": null
          }
        },
        "a195f52997f7436abcb752967240a214": {
          "model_module": "@jupyter-widgets/base",
          "model_name": "LayoutModel",
          "model_module_version": "1.2.0",
          "state": {
            "_model_module": "@jupyter-widgets/base",
            "_model_module_version": "1.2.0",
            "_model_name": "LayoutModel",
            "_view_count": null,
            "_view_module": "@jupyter-widgets/base",
            "_view_module_version": "1.2.0",
            "_view_name": "LayoutView",
            "align_content": null,
            "align_items": null,
            "align_self": null,
            "border": null,
            "bottom": null,
            "display": null,
            "flex": null,
            "flex_flow": null,
            "grid_area": null,
            "grid_auto_columns": null,
            "grid_auto_flow": null,
            "grid_auto_rows": null,
            "grid_column": null,
            "grid_gap": null,
            "grid_row": null,
            "grid_template_areas": null,
            "grid_template_columns": null,
            "grid_template_rows": null,
            "height": null,
            "justify_content": null,
            "justify_items": null,
            "left": null,
            "margin": null,
            "max_height": null,
            "max_width": null,
            "min_height": null,
            "min_width": null,
            "object_fit": null,
            "object_position": null,
            "order": null,
            "overflow": null,
            "overflow_x": null,
            "overflow_y": null,
            "padding": null,
            "right": null,
            "top": null,
            "visibility": null,
            "width": null
          }
        },
        "210b7b5073114bda96147e4738c03e7f": {
          "model_module": "@jupyter-widgets/controls",
          "model_name": "DescriptionStyleModel",
          "model_module_version": "1.5.0",
          "state": {
            "_model_module": "@jupyter-widgets/controls",
            "_model_module_version": "1.5.0",
            "_model_name": "DescriptionStyleModel",
            "_view_count": null,
            "_view_module": "@jupyter-widgets/base",
            "_view_module_version": "1.2.0",
            "_view_name": "StyleView",
            "description_width": ""
          }
        },
        "8b35677bef834eae920bcde41246a61f": {
          "model_module": "@jupyter-widgets/base",
          "model_name": "LayoutModel",
          "model_module_version": "1.2.0",
          "state": {
            "_model_module": "@jupyter-widgets/base",
            "_model_module_version": "1.2.0",
            "_model_name": "LayoutModel",
            "_view_count": null,
            "_view_module": "@jupyter-widgets/base",
            "_view_module_version": "1.2.0",
            "_view_name": "LayoutView",
            "align_content": null,
            "align_items": null,
            "align_self": null,
            "border": null,
            "bottom": null,
            "display": null,
            "flex": null,
            "flex_flow": null,
            "grid_area": null,
            "grid_auto_columns": null,
            "grid_auto_flow": null,
            "grid_auto_rows": null,
            "grid_column": null,
            "grid_gap": null,
            "grid_row": null,
            "grid_template_areas": null,
            "grid_template_columns": null,
            "grid_template_rows": null,
            "height": null,
            "justify_content": null,
            "justify_items": null,
            "left": null,
            "margin": null,
            "max_height": null,
            "max_width": null,
            "min_height": null,
            "min_width": null,
            "object_fit": null,
            "object_position": null,
            "order": null,
            "overflow": null,
            "overflow_x": null,
            "overflow_y": null,
            "padding": null,
            "right": null,
            "top": null,
            "visibility": null,
            "width": null
          }
        },
        "b5612e7c11ba4334936b8cdb9c2ed89d": {
          "model_module": "@jupyter-widgets/controls",
          "model_name": "ProgressStyleModel",
          "model_module_version": "1.5.0",
          "state": {
            "_model_module": "@jupyter-widgets/controls",
            "_model_module_version": "1.5.0",
            "_model_name": "ProgressStyleModel",
            "_view_count": null,
            "_view_module": "@jupyter-widgets/base",
            "_view_module_version": "1.2.0",
            "_view_name": "StyleView",
            "bar_color": null,
            "description_width": ""
          }
        },
        "c61d78c59c0d4f67af2a584550f9554b": {
          "model_module": "@jupyter-widgets/base",
          "model_name": "LayoutModel",
          "model_module_version": "1.2.0",
          "state": {
            "_model_module": "@jupyter-widgets/base",
            "_model_module_version": "1.2.0",
            "_model_name": "LayoutModel",
            "_view_count": null,
            "_view_module": "@jupyter-widgets/base",
            "_view_module_version": "1.2.0",
            "_view_name": "LayoutView",
            "align_content": null,
            "align_items": null,
            "align_self": null,
            "border": null,
            "bottom": null,
            "display": null,
            "flex": null,
            "flex_flow": null,
            "grid_area": null,
            "grid_auto_columns": null,
            "grid_auto_flow": null,
            "grid_auto_rows": null,
            "grid_column": null,
            "grid_gap": null,
            "grid_row": null,
            "grid_template_areas": null,
            "grid_template_columns": null,
            "grid_template_rows": null,
            "height": null,
            "justify_content": null,
            "justify_items": null,
            "left": null,
            "margin": null,
            "max_height": null,
            "max_width": null,
            "min_height": null,
            "min_width": null,
            "object_fit": null,
            "object_position": null,
            "order": null,
            "overflow": null,
            "overflow_x": null,
            "overflow_y": null,
            "padding": null,
            "right": null,
            "top": null,
            "visibility": null,
            "width": null
          }
        },
        "e67d314cf42d4e71a3db72b974497eb7": {
          "model_module": "@jupyter-widgets/controls",
          "model_name": "DescriptionStyleModel",
          "model_module_version": "1.5.0",
          "state": {
            "_model_module": "@jupyter-widgets/controls",
            "_model_module_version": "1.5.0",
            "_model_name": "DescriptionStyleModel",
            "_view_count": null,
            "_view_module": "@jupyter-widgets/base",
            "_view_module_version": "1.2.0",
            "_view_name": "StyleView",
            "description_width": ""
          }
        }
      }
    }
  },
  "cells": [
    {
      "cell_type": "code",
      "source": [
        "from google.colab import drive\n",
        "\n",
        "drive.mount('/content/gdrive/', force_remount=True)"
      ],
      "metadata": {
        "colab": {
          "base_uri": "https://localhost:8080/"
        },
        "id": "Ce_lTIiA7vRC",
        "outputId": "77ee0af8-9dae-49d6-b1b4-634ed95ba086"
      },
      "execution_count": 38,
      "outputs": [
        {
          "output_type": "stream",
          "name": "stdout",
          "text": [
            "Mounted at /content/gdrive/\n"
          ]
        }
      ]
    },
    {
      "cell_type": "code",
      "source": [
        "EXAMPLE_FILE = '/content/gdrive/MyDrive/test.jsonl' #ваш путь к файлу test.jsnol\n",
        "TASK_FILE = '/content/gdrive/MyDrive/train.jsonl' #ваш путь к файлу train.jsonl"
      ],
      "metadata": {
        "id": "lvwDJiz_74MS"
      },
      "execution_count": 39,
      "outputs": []
    },
    {
      "cell_type": "code",
      "source": [
        "import json\n",
        "import numpy as np\n",
        "import re\n",
        "import torch\n",
        "from tqdm import tqdm"
      ],
      "metadata": {
        "id": "rs1abi06pP_g"
      },
      "execution_count": 40,
      "outputs": []
    },
    {
      "cell_type": "code",
      "source": [
        "torch.manual_seed(0)\n",
        "\n",
        "import random\n",
        "random.seed(0)\n",
        "\n",
        "np.random.seed(0)"
      ],
      "metadata": {
        "id": "_X5SBKQvI6eL"
      },
      "execution_count": 41,
      "outputs": []
    },
    {
      "cell_type": "code",
      "source": [
        "with open(EXAMPLE_FILE) as f:\n",
        "    ex =  [json.loads(line) for line in f.readlines() if line]"
      ],
      "metadata": {
        "id": "UTuCBJvsX1tt"
      },
      "execution_count": 42,
      "outputs": []
    },
    {
      "cell_type": "code",
      "source": [
        "ex[0]"
      ],
      "metadata": {
        "colab": {
          "base_uri": "https://localhost:8080/"
        },
        "id": "w_4d9Xn6YQxJ",
        "outputId": "6f0ae470-877d-4e7e-9e9a-7ce287f69d83"
      },
      "execution_count": 43,
      "outputs": [
        {
          "output_type": "execute_result",
          "data": {
            "text/plain": [
              "{'question': \"Janet’s ducks lay 16 eggs per day. She eats three for breakfast every morning and bakes muffins for her friends every day with four. She sells the remainder at the farmers' market daily for $2 per fresh duck egg. How much in dollars does she make every day at the farmers' market?\",\n",
              " 'answer': 'Janet sells 16 - 3 - 4 = <<16-3-4=9>>9 duck eggs a day.\\nShe makes 9 * 2 = $<<9*2=18>>18 every day at the farmer’s market.\\n#### 18'}"
            ]
          },
          "metadata": {},
          "execution_count": 43
        }
      ]
    },
    {
      "cell_type": "code",
      "source": [
        "EX_IDS = np.random.randint(0, len(ex), size=100) #фиксируем набор примеров"
      ],
      "metadata": {
        "id": "s1NsZfc9_5Mw"
      },
      "execution_count": 44,
      "outputs": []
    },
    {
      "cell_type": "code",
      "source": [
        "with open(TASK_FILE) as f:\n",
        "    data = [json.loads(line) for line in f.readlines() if line]"
      ],
      "metadata": {
        "id": "yERz58CqpQaK"
      },
      "execution_count": 45,
      "outputs": []
    },
    {
      "cell_type": "code",
      "source": [
        "data[0]"
      ],
      "metadata": {
        "colab": {
          "base_uri": "https://localhost:8080/"
        },
        "id": "vPJSUhmNpTqp",
        "outputId": "a0e0512d-bc2d-476f-c9c0-f51308d129c9"
      },
      "execution_count": 46,
      "outputs": [
        {
          "output_type": "execute_result",
          "data": {
            "text/plain": [
              "{'question': 'Natalia sold clips to 48 of her friends in April, and then she sold half as many clips in May. How many clips did Natalia sell altogether in April and May?',\n",
              " 'answer': 'Natalia sold 48/2 = <<48/2=24>>24 clips in May.\\nNatalia sold 48+24 = <<48+24=72>>72 clips altogether in April and May.\\n#### 72'}"
            ]
          },
          "metadata": {},
          "execution_count": 46
        }
      ]
    },
    {
      "cell_type": "code",
      "source": [
        "class GSMDataset(torch.utils.data.Dataset):\n",
        "\n",
        "\n",
        "    def __init__(self, tokenizer, data, exs, example_size=8):\n",
        "\n",
        "        self.data = data\n",
        "        self.exs_data = exs\n",
        "        self.tokenizer = tokenizer\n",
        "\n",
        "        self.examples = self.make_examples(example_size)\n",
        "\n",
        "\n",
        "    def make_examples(self, amount):\n",
        "\n",
        "        examples = ''\n",
        "\n",
        "        for id in EX_IDS[:amount]:\n",
        "\n",
        "            q = self.exs_data[id]['question']\n",
        "            a = self.exs_data[id]['answer']\n",
        "\n",
        "            a = re.sub(\"\\<.*?\\>>\", \"\", a)\n",
        "            a = re.sub('\\n', ' ', a)\n",
        "            a = re.sub(\"####\", \"The answer is\", a) + '.'\n",
        "\n",
        "            examples += f'Q: {q}\\nA: {a}\\n'\n",
        "\n",
        "        return examples\n",
        "\n",
        "\n",
        "    def __len__(self):\n",
        "        return len(self.data)\n",
        "\n",
        "\n",
        "    def __getitem__(self, id):\n",
        "        \n",
        "        q = self.data[id]['question']\n",
        "        a = self.data[id]['answer']\n",
        "\n",
        "        a = float(re.sub('.*?\\n|#|,', '', a))\n",
        "        \n",
        "        tokens = self.tokenizer(self.examples + f'Q: {q}\\n', return_tensors='pt')['input_ids']\n",
        "\n",
        "        return (tokens, a)"
      ],
      "metadata": {
        "id": "jJROmJjlpXgh"
      },
      "execution_count": 47,
      "outputs": []
    },
    {
      "cell_type": "code",
      "source": [
        "!pip install -q petals"
      ],
      "metadata": {
        "id": "C9M6rWKVk49R"
      },
      "execution_count": 48,
      "outputs": []
    },
    {
      "cell_type": "code",
      "source": [
        "from transformers import BloomTokenizerFast \n",
        "from petals import DistributedBloomForCausalLM\n",
        "\n",
        "MODEL_NAME = \"bigscience/bloom-petals\"\n",
        "tokenizer = BloomTokenizerFast.from_pretrained(MODEL_NAME)"
      ],
      "metadata": {
        "id": "BriFIIpJonYB"
      },
      "execution_count": 49,
      "outputs": []
    },
    {
      "cell_type": "code",
      "source": [
        "dataset = GSMDataset(tokenizer, data, ex, 8)"
      ],
      "metadata": {
        "id": "f5p4a1boqCrW"
      },
      "execution_count": 50,
      "outputs": []
    },
    {
      "cell_type": "code",
      "source": [
        "DEVICE = 'cuda' if torch.cuda.is_available() else 'cpu'\n",
        "print(DEVICE)"
      ],
      "metadata": {
        "colab": {
          "base_uri": "https://localhost:8080/"
        },
        "id": "ABsB0g_jAjxt",
        "outputId": "fed6ca45-5412-4102-d581-aef6c27c0b48"
      },
      "execution_count": 51,
      "outputs": [
        {
          "output_type": "stream",
          "name": "stdout",
          "text": [
            "cpu\n"
          ]
        }
      ]
    },
    {
      "cell_type": "code",
      "source": [
        "model = DistributedBloomForCausalLM.from_pretrained(MODEL_NAME)\n",
        "model.to(DEVICE)"
      ],
      "metadata": {
        "colab": {
          "base_uri": "https://localhost:8080/",
          "height": 81,
          "referenced_widgets": [
            "482af209288c40f992d16e61f7f53c67",
            "8487dcd19ba1472d8c3ba629ca2d30a0",
            "623f263e1e8a4b6082416c758e6c0cad",
            "026800a895c246a3bea7359c1391998c",
            "dae9423ac3d84730925c5f7982ee0939",
            "d8bbc6f0e07544fa89b571326df866c1",
            "411e421635164b33b299be6ccda10da4",
            "9e97cb5b5c6d4de994ac319e6fd24556",
            "862cf2265a5e4be4944778be49e2d453",
            "5d127a8df30e484cb08f38768b6af439",
            "d6b333257be7496d9e5b29907eb7cfaa",
            "1bbc1b4576224b17825419f4a41935cf",
            "5a37ecad0c5142b2a50395c4cc486520",
            "5818a4aabb9b49bbbb84c6a8b9ca07ce",
            "1b705f19d86249af8799c9b13ebdcc89",
            "72f36562d68449b2b8cdc916f1016c16",
            "a195f52997f7436abcb752967240a214",
            "210b7b5073114bda96147e4738c03e7f",
            "8b35677bef834eae920bcde41246a61f",
            "b5612e7c11ba4334936b8cdb9c2ed89d",
            "c61d78c59c0d4f67af2a584550f9554b",
            "e67d314cf42d4e71a3db72b974497eb7"
          ]
        },
        "id": "0ZaIXoKGqBdp",
        "outputId": "d5bdf0ad-cb61-4056-8eb7-297afbe3df4a"
      },
      "execution_count": null,
      "outputs": [
        {
          "output_type": "display_data",
          "data": {
            "text/plain": [
              "Downloading:   0%|          | 0.00/641 [00:00<?, ?B/s]"
            ],
            "application/vnd.jupyter.widget-view+json": {
              "version_major": 2,
              "version_minor": 0,
              "model_id": "482af209288c40f992d16e61f7f53c67"
            }
          },
          "metadata": {}
        },
        {
          "output_type": "display_data",
          "data": {
            "text/plain": [
              "Downloading:   0%|          | 0.00/7.19G [00:00<?, ?B/s]"
            ],
            "application/vnd.jupyter.widget-view+json": {
              "version_major": 2,
              "version_minor": 0,
              "model_id": "1bbc1b4576224b17825419f4a41935cf"
            }
          },
          "metadata": {}
        }
      ]
    },
    {
      "cell_type": "code",
      "source": [
        "def generate_answ(task, answ_file): \n",
        "\n",
        "    with model.inference_session(max_length=2048) as sess:\n",
        "\n",
        "        prefix = task[0].to(DEVICE)\n",
        "\n",
        "        answ = ''\n",
        "\n",
        "        try: #в случаее если ответ превысит допустимый размер\n",
        "            while True:\n",
        "                outputs = model.generate(\n",
        "                    prefix, max_new_tokens=1, do_sample=True, top_p=0.9, temperature=0.75, session=sess\n",
        "                )\n",
        "                outputs = tokenizer.decode(outputs[0, -1:])\n",
        "\n",
        "                answ += outputs\n",
        "                if \"\\n\" in outputs:\n",
        "                    break\n",
        "                prefix = None\n",
        "\n",
        "            with open(answ_file, 'a') as f: #запись полученных ответов для их анализа\n",
        "\n",
        "                example = {'A': answ}\n",
        "\n",
        "                json_string = json.dumps(example)\n",
        "                f.write(json_string)\n",
        "\n",
        "            answ_file.close()\n",
        "\n",
        "            try: #в случае если в ответе не содержится строки 'The answer is'\n",
        "                \n",
        "                answ = float(re.sub('\\.|\\,', '', answ.split('The answer is ')[1])) \n",
        "                return answ\n",
        "\n",
        "            except Exception: return 'NO'\n",
        "\n",
        "        except Exception: return 'NO'\n",
        "\n",
        "\n",
        "def get_metric(dataset, answ_file, mode='cot', num_samples=4):\n",
        "\n",
        "    acc = []\n",
        "\n",
        "    if mode == 'cot':\n",
        "\n",
        "        for task in tqdm(dataset):\n",
        "\n",
        "            result = generate_answ(task, answ_file)\n",
        "            \n",
        "            if result != 'NO': acc.append(np.isclose(result, task[1], 1e-3))\n",
        "            else: acc.append(False)\n",
        "\n",
        "    if mode == 'sc':\n",
        "\n",
        "        for task in tqdm(dataset):\n",
        "\n",
        "            res = []\n",
        "\n",
        "            for sample in range(num_samples):\n",
        "\n",
        "                result = generate_answ(task, answ_file)\n",
        "                res.append(result)\n",
        "\n",
        "            values, counts = np.unique(res, return_counts=True)\n",
        "            ind = np.argmax(counts) #ищем самый частый ответ (согласно статье этот подход даёт лучший результат)\n",
        "            \n",
        "            result = values[ind]\n",
        "\n",
        "            if result != 'NO': acc.append(np.isclose(result, task[1], 1e-3))\n",
        "            else: acc.append(False)\n",
        "\n",
        "    return acc"
      ],
      "metadata": {
        "id": "4dJ3b00e32GO"
      },
      "execution_count": null,
      "outputs": []
    },
    {
      "cell_type": "markdown",
      "source": [
        "## Сравнение CoT и Self-Consitenciy CoT в зависимости от количества поданых примеров."
      ],
      "metadata": {
        "id": "EdFejI1fY5tc"
      }
    },
    {
      "cell_type": "code",
      "source": [
        "#CoT\n",
        "\n",
        "answ_cot = []\n",
        "\n",
        "for i in range(1, 10):\n",
        "\n",
        "    ANSW_FILE = f'answ_cot{i}.json' \n",
        "\n",
        "    dataset = GSMDataset(tokenizer, data, ex, example_size=i)\n",
        "\n",
        "    answ_cot.append(get_metric(dataset, ANSW_FILE, mode='cot'))"
      ],
      "metadata": {
        "id": "cssqy0oeZVP0"
      },
      "execution_count": null,
      "outputs": []
    },
    {
      "cell_type": "code",
      "source": [
        "#SC\n",
        "\n",
        "answ_sc = []\n",
        "\n",
        "for i in range(1, 10):\n",
        "\n",
        "    ANSW_FILE = f'answ_sc{i}.json'\n",
        "\n",
        "    dataset = GSMDataset(tokenizer, data, ex, example_size=i)\n",
        "\n",
        "    answ_sc.append(get_metric(dataset, ANSW_FILE, mode='sc'))"
      ],
      "metadata": {
        "id": "QEYF-MLh1sv3"
      },
      "execution_count": null,
      "outputs": []
    },
    {
      "cell_type": "code",
      "source": [
        "import matplotlib.pyplot as plt"
      ],
      "metadata": {
        "id": "t52VKae_1wGU"
      },
      "execution_count": null,
      "outputs": []
    },
    {
      "cell_type": "code",
      "source": [
        "plt.figure(figsize=(20, 10))\n",
        "\n",
        "plt.subplot(1, 2, 1)\n",
        "plt.title('CoT prompting')\n",
        "plt.plot(np.arange(1, 10), np.array(answ_cot).mean(axis = 1))\n",
        "plt.xlabel('examplars')\n",
        "plt.ylabel('accuracy')\n",
        "\n",
        "plt.subplot(1, 2, 2)\n",
        "plt.title('SC prompting')\n",
        "plt.plot(np.arange(1, 10), np.array(answ_sc).mean(axis = 1))\n",
        "plt.xlabel('examplars')\n",
        "plt.ylabel('accuracy')\n",
        "\n",
        "plt.show()"
      ],
      "metadata": {
        "id": "dlPDMiOc2zgB"
      },
      "execution_count": null,
      "outputs": []
    },
    {
      "cell_type": "code",
      "source": [
        "cot_best = np.argmax(np.array(answ_cot).mean(axis = 1))\n",
        "sc_best = np.argmax(np.array(answ_sc).mean(axis = 1))"
      ],
      "metadata": {
        "id": "o4CkuUUZ_F6V"
      },
      "execution_count": null,
      "outputs": []
    },
    {
      "cell_type": "markdown",
      "source": [
        "## Исследование качества Self-Consistency от количества сгенерированных ответов"
      ],
      "metadata": {
        "id": "d4spctlxZWRM"
      }
    },
    {
      "cell_type": "code",
      "source": [
        "answ = []\n",
        "\n",
        "dataset = GSMDataset(tokenizer, data, ex, example_size=sc_best)\n",
        "\n",
        "for i in range(4, 20):\n",
        "\n",
        "    ANSW_FILE = f'answ_sc_samp{i}.json'\n",
        "\n",
        "    answ.append(get_metric(dataset, ANSW_FILE, mode='sc', num_samples=i))"
      ],
      "metadata": {
        "id": "aksM9TE_ZxWP"
      },
      "execution_count": null,
      "outputs": []
    },
    {
      "cell_type": "code",
      "source": [
        "plt.figure(figsize=(10, 10))\n",
        "\n",
        "plt.title('SC prompting')\n",
        "plt.plot(np.arange(4, 20), np.array(answ))\n",
        "plt.xlabel('samples')\n",
        "plt.ylabel('accuracy')\n",
        "\n",
        "plt.show()"
      ],
      "metadata": {
        "id": "lwGR07P-4wep"
      },
      "execution_count": null,
      "outputs": []
    },
    {
      "cell_type": "code",
      "source": [
        "sc_best_samp_size = np.argmax(np.array(answ)) + 4"
      ],
      "metadata": {
        "id": "qHtqKT5B_UlO"
      },
      "execution_count": null,
      "outputs": []
    },
    {
      "cell_type": "markdown",
      "source": [
        "## Promting with equation only"
      ],
      "metadata": {
        "id": "SVtsedA_bvfR"
      }
    },
    {
      "cell_type": "code",
      "source": [
        "class GSMDatasetEq(torch.utils.data.Dataset):\n",
        "\n",
        "\n",
        "    def __init__(self, tokenizer, data, exs, example_size=8):\n",
        "\n",
        "        self.data = data\n",
        "        self.exs_data = exs\n",
        "        self.tokenizer = tokenizer\n",
        "\n",
        "        self.examples = self.make_examples(example_size)\n",
        "\n",
        "\n",
        "    def make_examples(self, amount):\n",
        "\n",
        "        ex_ids = np.random.randint(0, len(self.exs_data), size=amount)\n",
        "\n",
        "        examples = ''\n",
        "\n",
        "        for id in EX_IDS[:amount]:\n",
        "\n",
        "            q = self.exs_data[id]['question']\n",
        "            a = self.exs_data[id]['answer']\n",
        "\n",
        "            eqs = re.findall('\\<<.*?>\\>', a)\n",
        "            res = \"The answer is\" + re.sub('.*?\\n|#|,', '', a) + '.'\n",
        "            a = ''\n",
        "            \n",
        "            for eq in eqs:\n",
        "\n",
        "                a = a + re.sub('<|>', '', eq) + '; '\n",
        "\n",
        "            examples += f'Q: {q}\\nA: {a} {res}\\n'\n",
        "\n",
        "        return examples\n",
        "\n",
        "\n",
        "    def __len__(self):\n",
        "        return len(self.data)\n",
        "\n",
        "\n",
        "    def __getitem__(self, id):\n",
        "        \n",
        "        q = self.data[id]['question']\n",
        "        a = self.data[id]['answer']\n",
        "\n",
        "        a = float(re.sub('.*?\\n|#|,', '', a))\n",
        "        \n",
        "        tokens = self.tokenizer(self.examples + f'Q: {q}\\n', return_tensors='pt')['input_ids']\n",
        "\n",
        "        return (tokens, a)"
      ],
      "metadata": {
        "id": "76FiX-w1b-DK"
      },
      "execution_count": null,
      "outputs": []
    },
    {
      "cell_type": "code",
      "source": [
        "dataset = GSMDatasetEq(tokenizer, data, ex, example_size=2)"
      ],
      "metadata": {
        "id": "etPwzw6t5kMa"
      },
      "execution_count": null,
      "outputs": []
    },
    {
      "cell_type": "code",
      "source": [
        "print(tokenizer.decode(dataset[0][0][0]))"
      ],
      "metadata": {
        "id": "xEAhDdj2-C7Z"
      },
      "execution_count": null,
      "outputs": []
    },
    {
      "cell_type": "code",
      "source": [
        "#CoT\n",
        "\n",
        "ANSW_FILE = f'answ_cot_eq.json'\n",
        "\n",
        "dataset = GSMDatasetEq(tokenizer, data, ex, example_size=cot_best)\n",
        "\n",
        "answ = np.mean(get_metric(dataset, ANSW_FILE, mode='cot'))\n",
        "\n",
        "print(f'\\n{answ}')"
      ],
      "metadata": {
        "id": "G7ktI-kK-32c"
      },
      "execution_count": null,
      "outputs": []
    },
    {
      "cell_type": "code",
      "source": [
        "#SC\n",
        "\n",
        "ANSW_FILE = f'answ_sc_eq.json'\n",
        "\n",
        "dataset = GSMDatasetEq(tokenizer, data, ex, example_size=sc_best)\n",
        "\n",
        "answ = np.mean(get_metric(dataset, ANSW_FILE, mode='sc', num_samples=sc_best_samp_size))\n",
        "\n",
        "print(f'\\n{answ}')"
      ],
      "metadata": {
        "id": "2AxKyOU6Bd11"
      },
      "execution_count": null,
      "outputs": []
    },
    {
      "cell_type": "markdown",
      "source": [
        "## Вывод"
      ],
      "metadata": {
        "id": "iTgpH2DLcOhX"
      }
    },
    {
      "cell_type": "markdown",
      "source": [
        "К сожалению, не получилось провести предложенные выше эксперименты из-за плохого доступа к BLOOM. Однако, можно предположить, что результаты могут быть схожи с GPT-3 в силу примерно равного числа парметров (176 против 175)."
      ],
      "metadata": {
        "id": "HK4oCeaxJJl_"
      }
    }
  ]
}